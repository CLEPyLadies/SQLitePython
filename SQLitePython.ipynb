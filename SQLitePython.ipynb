{
  "cells": [
    {
      "cell_type": "markdown",
      "metadata": {
        "id": "view-in-github",
        "colab_type": "text"
      },
      "source": [
        "<a href=\"https://colab.research.google.com/github/CLEPyLadies/SQLitePython/blob/main/SQLitePython.ipynb\" target=\"_parent\"><img src=\"https://colab.research.google.com/assets/colab-badge.svg\" alt=\"Open In Colab\"/></a>"
      ]
    },
    {
      "cell_type": "code",
      "execution_count": null,
      "id": "partial-closing",
      "metadata": {
        "id": "partial-closing"
      },
      "outputs": [],
      "source": [
        "#import libraries\n",
        "\n",
        "import sqlite3 as db"
      ]
    },
    {
      "cell_type": "markdown",
      "source": [
        "*   We can connect to an existing, or create a new one if it does not exist.\n",
        "*   The SQLite keeps the database as a file with the `.db` extension"
      ],
      "metadata": {
        "id": "PNRYN-dTldJb"
      },
      "id": "PNRYN-dTldJb"
    },
    {
      "cell_type": "code",
      "execution_count": null,
      "id": "contained-kernel",
      "metadata": {
        "id": "contained-kernel"
      },
      "outputs": [],
      "source": [
        "conn = db.connect('Customer_DB.db')"
      ]
    },
    {
      "cell_type": "markdown",
      "source": [
        "\n",
        "\n",
        "*   To interact with our database, we have to create a cursor.\n",
        "*   Cursor is used to excute statments to communicate with the database.\n",
        "*   We will use the cursor to issue commands that will allow us to query or modify our database.\n",
        "\n",
        "\n",
        "\n"
      ],
      "metadata": {
        "id": "m7GLb6zwm6fb"
      },
      "id": "m7GLb6zwm6fb"
    },
    {
      "cell_type": "code",
      "execution_count": null,
      "id": "tender-willow",
      "metadata": {
        "id": "tender-willow"
      },
      "outputs": [],
      "source": [
        "cur = conn.cursor()"
      ]
    },
    {
      "cell_type": "markdown",
      "source": [
        "# 1 - Create"
      ],
      "metadata": {
        "id": "1ccJK2Wdob9Q"
      },
      "id": "1ccJK2Wdob9Q"
    },
    {
      "cell_type": "code",
      "execution_count": null,
      "id": "moderate-stephen",
      "metadata": {
        "colab": {
          "base_uri": "https://localhost:8080/"
        },
        "id": "moderate-stephen",
        "outputId": "5ff5bf85-38b9-45d2-c293-c6736cfb596d"
      },
      "outputs": [
        {
          "output_type": "execute_result",
          "data": {
            "text/plain": [
              "<sqlite3.Cursor at 0x7f8426ac97a0>"
            ]
          },
          "metadata": {},
          "execution_count": 4
        }
      ],
      "source": [
        "## Create a Table \n",
        "\n",
        "cur.execute(\"CREATE TABLE customers_table (first_name DATATYPE, last_name DATATYPE , email DATATYPE DATATYPE)\")"
      ]
    },
    {
      "cell_type": "markdown",
      "source": [
        "DataTypes:\n",
        "Text\n",
        "Null\n",
        "Int\n",
        "Blob"
      ],
      "metadata": {
        "id": "mpgeU9yTY5r1"
      },
      "id": "mpgeU9yTY5r1"
    },
    {
      "cell_type": "code",
      "source": [
        "## another was by using \"\"\"Doc String\"\n",
        "cur.execute(\"\"\"CREATE TABLE customers_table (\n",
        "                      first_name text,\n",
        "                      last_name text,\n",
        "                      email text\n",
        "            )\"\"\")"
      ],
      "metadata": {
        "colab": {
          "base_uri": "https://localhost:8080/",
          "height": 200
        },
        "id": "Ljta58G_qqRI",
        "outputId": "67cd16a1-1ebf-4a08-97f4-2a79485e99d2"
      },
      "id": "Ljta58G_qqRI",
      "execution_count": null,
      "outputs": [
        {
          "output_type": "error",
          "ename": "OperationalError",
          "evalue": "ignored",
          "traceback": [
            "\u001b[0;31m---------------------------------------------------------------------------\u001b[0m",
            "\u001b[0;31mOperationalError\u001b[0m                          Traceback (most recent call last)",
            "\u001b[0;32m<ipython-input-129-1dd35b480d94>\u001b[0m in \u001b[0;36m<module>\u001b[0;34m\u001b[0m\n\u001b[1;32m      4\u001b[0m                       \u001b[0mlast_name\u001b[0m \u001b[0mtext\u001b[0m\u001b[0;34m,\u001b[0m\u001b[0;34m\u001b[0m\u001b[0;34m\u001b[0m\u001b[0m\n\u001b[1;32m      5\u001b[0m                       \u001b[0memail\u001b[0m \u001b[0mtext\u001b[0m\u001b[0;34m\u001b[0m\u001b[0;34m\u001b[0m\u001b[0m\n\u001b[0;32m----> 6\u001b[0;31m             )\"\"\")\n\u001b[0m",
            "\u001b[0;31mOperationalError\u001b[0m: table customers_table already exists"
          ]
        }
      ]
    },
    {
      "cell_type": "code",
      "execution_count": null,
      "id": "alert-barrier",
      "metadata": {
        "colab": {
          "base_uri": "https://localhost:8080/"
        },
        "id": "alert-barrier",
        "outputId": "65f5fe42-3c88-4a55-80b4-327817f8824f"
      },
      "outputs": [
        {
          "output_type": "execute_result",
          "data": {
            "text/plain": [
              "<sqlite3.Cursor at 0x7f32f5d171f0>"
            ]
          },
          "metadata": {},
          "execution_count": 118
        }
      ],
      "source": [
        "cur.execute(\"SELECT name FROM sqlite_master WHERE type='table';\")\n"
      ]
    },
    {
      "cell_type": "code",
      "source": [
        "## To show the results\n",
        "cur.fetchall()"
      ],
      "metadata": {
        "colab": {
          "base_uri": "https://localhost:8080/"
        },
        "id": "STTbzyAEqWP9",
        "outputId": "0c76d411-2b5e-4864-ac9a-10f116025b65"
      },
      "id": "STTbzyAEqWP9",
      "execution_count": null,
      "outputs": [
        {
          "output_type": "execute_result",
          "data": {
            "text/plain": [
              "[('customers_table',)]"
            ]
          },
          "metadata": {},
          "execution_count": 119
        }
      ]
    },
    {
      "cell_type": "markdown",
      "source": [
        "# 2 - Insert"
      ],
      "metadata": {
        "id": "rBkFfALL5khB"
      },
      "id": "rBkFfALL5khB"
    },
    {
      "cell_type": "code",
      "execution_count": null,
      "id": "inclusive-looking",
      "metadata": {
        "colab": {
          "base_uri": "https://localhost:8080/"
        },
        "id": "inclusive-looking",
        "outputId": "d9e9c66e-53f3-46ff-8525-ae6fb19d1ba4"
      },
      "outputs": [
        {
          "output_type": "execute_result",
          "data": {
            "text/plain": [
              "<sqlite3.Cursor at 0x7f8426ac97a0>"
            ]
          },
          "metadata": {},
          "execution_count": 5
        }
      ],
      "source": [
        "## Singl insert\n",
        "\n",
        "cur.execute(\"INSERT INTO customers_table VALUES ('Sam', 'Brown', 'sam@brown.com')\")\n",
        "cur.execute(\"INSERT INTO customers_table VALUES ('Steph', 'Kuewa', 'steph@kuewa.com')\")\n",
        "cur.execute(\"INSERT INTO customers_table VALUES ('Dan', 'Pas', 'dan@pas.com')\")"
      ]
    },
    {
      "cell_type": "code",
      "execution_count": null,
      "id": "useful-alliance",
      "metadata": {
        "colab": {
          "base_uri": "https://localhost:8080/"
        },
        "id": "useful-alliance",
        "outputId": "2a832656-1729-4433-8abf-4ade7076a524"
      },
      "outputs": [
        {
          "output_type": "execute_result",
          "data": {
            "text/plain": [
              "<sqlite3.Cursor at 0x7f32f5d171f0>"
            ]
          },
          "metadata": {},
          "execution_count": 122
        }
      ],
      "source": [
        "### Insert Many\n",
        "## To insert many as list and using `executemany()` command\n",
        "\n",
        "new_customers = [\n",
        "\t\t\t\t\t('John', 'Doe', 'john@doe.com'), \n",
        "\t\t\t\t\t('Jason', 'Hale', 'steph@hale.com'), \n",
        "\t\t\t\t\t('Sam', \"Billing\", 'sam@billing.com'),\n",
        "\t\t\t\t]\n",
        "\n",
        "cur.executemany(\"INSERT INTO customers_table VALUES (?,?,?)\", new_customers)"
      ]
    },
    {
      "cell_type": "markdown",
      "source": [
        "# 3 - Select"
      ],
      "metadata": {
        "id": "23g8-JDI55DK"
      },
      "id": "23g8-JDI55DK"
    },
    {
      "cell_type": "code",
      "execution_count": null,
      "id": "hindu-vietnam",
      "metadata": {
        "id": "hindu-vietnam"
      },
      "outputs": [],
      "source": [
        "## Query the DB\n",
        "\n",
        "cur.execute(\"SELECT * FROM customers_table;\")\n",
        "cur.fetchone()\n",
        "cur.fetchmany()\n",
        "cur.fetchall()"
      ]
    },
    {
      "cell_type": "code",
      "source": [
        "## another way to insert:\n",
        "q = \"\"\"INSERT INTO customers_table VALUES (?,?,?)\"\"\"\n",
        "\n",
        "cur.executemany(q, new_customers)"
      ],
      "metadata": {
        "colab": {
          "base_uri": "https://localhost:8080/"
        },
        "id": "AxjDKL6Z3ZQS",
        "outputId": "1acabc8d-d0d0-4c4e-c02b-9b728129f7be"
      },
      "id": "AxjDKL6Z3ZQS",
      "execution_count": null,
      "outputs": [
        {
          "output_type": "execute_result",
          "data": {
            "text/plain": [
              "<sqlite3.Cursor at 0x7f32fd7bbd50>"
            ]
          },
          "metadata": {},
          "execution_count": 63
        }
      ]
    },
    {
      "cell_type": "markdown",
      "source": [
        "# Where\n"
      ],
      "metadata": {
        "id": "DZmwK0vO9ig5"
      },
      "id": "DZmwK0vO9ig5"
    },
    {
      "cell_type": "code",
      "source": [
        "## Lookup with Where\n",
        "\n",
        "q = \"\"\"SELECT * FROM customers_table where first_name = 'Sam' \"\"\"\n",
        "\n",
        "cur.execute(q)\n",
        "cur.fetchall()"
      ],
      "metadata": {
        "colab": {
          "base_uri": "https://localhost:8080/"
        },
        "id": "fIRrkl_g9h1f",
        "outputId": "6d9bd55a-4c35-4b1b-cc0c-3db12010a946"
      },
      "id": "fIRrkl_g9h1f",
      "execution_count": null,
      "outputs": [
        {
          "output_type": "execute_result",
          "data": {
            "text/plain": [
              "[('Sam', 'Billing', 'sam@billing.com'),\n",
              " ('Sam', 'Billing', 'sam@billing.com'),\n",
              " ('Sam', 'Billing', 'sam@billing.com'),\n",
              " ('Sam', 'Billing', 'sam@billing.com'),\n",
              " ('Sam', 'Billing', 'sam@billing.com'),\n",
              " ('Sam', 'Billing', 'sam@billing.com'),\n",
              " ('Sam', 'Billing', 'sam@billing.com'),\n",
              " ('Sam', 'Billing', 'sam@billing.com'),\n",
              " ('Sam', 'Brown', 'sam@brown.com')]"
            ]
          },
          "metadata": {},
          "execution_count": 79
        }
      ]
    },
    {
      "cell_type": "code",
      "source": [
        "q = \"\"\" \n",
        "        SELECT * FROM customers_table \n",
        "        where first_name = 'Sam' \n",
        "              and last_name = 'Billing' \n",
        "        \"\"\"\n",
        "\n",
        "cur.execute(q)\n",
        "cur.fetchall()"
      ],
      "metadata": {
        "colab": {
          "base_uri": "https://localhost:8080/"
        },
        "id": "q3vIBiGS-C_p",
        "outputId": "3bdaff7e-4681-409e-bacb-361c568c7b24"
      },
      "id": "q3vIBiGS-C_p",
      "execution_count": null,
      "outputs": [
        {
          "output_type": "execute_result",
          "data": {
            "text/plain": [
              "[('Sam', 'Brown', 'sam@brown.com')]"
            ]
          },
          "metadata": {},
          "execution_count": 81
        }
      ]
    },
    {
      "cell_type": "markdown",
      "source": [
        "#Update"
      ],
      "metadata": {
        "id": "0KTVRw7K_m90"
      },
      "id": "0KTVRw7K_m90"
    },
    {
      "cell_type": "code",
      "source": [
        "update_query = \"\"\" UPDATE customers_table SET first_name = 'Engy' WHERE last_name = 'Billing' \"\"\"\n",
        "\n",
        "cur.execute(update_query)\n"
      ],
      "metadata": {
        "colab": {
          "base_uri": "https://localhost:8080/"
        },
        "id": "OCtWupe0_mRX",
        "outputId": "29684dc6-e20d-477d-e9bd-7d04ce648520"
      },
      "id": "OCtWupe0_mRX",
      "execution_count": null,
      "outputs": [
        {
          "output_type": "execute_result",
          "data": {
            "text/plain": [
              "[]"
            ]
          },
          "metadata": {},
          "execution_count": 84
        }
      ]
    },
    {
      "cell_type": "code",
      "source": [
        "cur.execute(\"\"\" Select * from customers_table where last_name = 'Billing' \"\"\")\n",
        "\n",
        "cur.fetchall()"
      ],
      "metadata": {
        "colab": {
          "base_uri": "https://localhost:8080/"
        },
        "id": "3Omai19MBIm2",
        "outputId": "9231c60b-03a0-4210-e271-b19e9a427355"
      },
      "id": "3Omai19MBIm2",
      "execution_count": null,
      "outputs": [
        {
          "output_type": "execute_result",
          "data": {
            "text/plain": [
              "[('Engy', 'Billing', 'sam@billing.com'),\n",
              " ('Engy', 'Billing', 'sam@billing.com'),\n",
              " ('Engy', 'Billing', 'sam@billing.com'),\n",
              " ('Engy', 'Billing', 'sam@billing.com'),\n",
              " ('Engy', 'Billing', 'sam@billing.com'),\n",
              " ('Engy', 'Billing', 'sam@billing.com'),\n",
              " ('Engy', 'Billing', 'sam@billing.com'),\n",
              " ('Engy', 'Billing', 'sam@billing.com')]"
            ]
          },
          "metadata": {},
          "execution_count": 87
        }
      ]
    },
    {
      "cell_type": "markdown",
      "source": [
        "# DELETE"
      ],
      "metadata": {
        "id": "kaxVbxAq7exY"
      },
      "id": "kaxVbxAq7exY"
    },
    {
      "cell_type": "code",
      "source": [
        "## Delete Record from table\n",
        "\n",
        "cur.execute(\"DELETE from customers_table WHERE rowid = '1'\")"
      ],
      "metadata": {
        "colab": {
          "base_uri": "https://localhost:8080/"
        },
        "id": "kx2lhrsT7gKx",
        "outputId": "91d744bf-5a8a-4b4b-f7b0-649d76ed960c"
      },
      "id": "kx2lhrsT7gKx",
      "execution_count": null,
      "outputs": [
        {
          "output_type": "execute_result",
          "data": {
            "text/plain": [
              "<sqlite3.Cursor at 0x7f32fd7bbd50>"
            ]
          },
          "metadata": {},
          "execution_count": 88
        }
      ]
    },
    {
      "cell_type": "code",
      "source": [
        "## Delet all records\n",
        "cur.execute(\"DELETE  from customers_table \")"
      ],
      "metadata": {
        "colab": {
          "base_uri": "https://localhost:8080/"
        },
        "id": "_eDzfra8CSv6",
        "outputId": "e2cb10ac-45c5-4c22-9460-e8b4c6f2bbb8"
      },
      "id": "_eDzfra8CSv6",
      "execution_count": null,
      "outputs": [
        {
          "output_type": "execute_result",
          "data": {
            "text/plain": [
              "<sqlite3.Cursor at 0x7f32fd7bbd50>"
            ]
          },
          "metadata": {},
          "execution_count": 90
        }
      ]
    },
    {
      "cell_type": "code",
      "source": [
        "cur.execute(\"\"\" Select * from customers_table \"\"\")\n",
        "\n",
        "cur.fetchall()"
      ],
      "metadata": {
        "colab": {
          "base_uri": "https://localhost:8080/"
        },
        "id": "IBuPtxg4CWpg",
        "outputId": "36d3331f-8c90-43fe-d2d7-90ad87eedd33"
      },
      "id": "IBuPtxg4CWpg",
      "execution_count": null,
      "outputs": [
        {
          "output_type": "execute_result",
          "data": {
            "text/plain": [
              "[]"
            ]
          },
          "metadata": {},
          "execution_count": 91
        }
      ]
    },
    {
      "cell_type": "markdown",
      "source": [
        "# Commit()\n",
        "\n",
        "*   List item\n",
        "*   List item\n",
        "\n",
        "\n",
        "All our changes are trmprory, to Save your changes into the db we need to use `commit()` command other wise they will be lost once we close our connection."
      ],
      "metadata": {
        "id": "aGG8AudBycBI"
      },
      "id": "aGG8AudBycBI"
    },
    {
      "cell_type": "code",
      "execution_count": null,
      "id": "featured-bleeding",
      "metadata": {
        "id": "featured-bleeding"
      },
      "outputs": [],
      "source": [
        "conn.commit()"
      ]
    },
    {
      "cell_type": "markdown",
      "source": [
        "Update Table"
      ],
      "metadata": {
        "id": "OCSGIYYvnFSn"
      },
      "id": "OCSGIYYvnFSn"
    },
    {
      "cell_type": "markdown",
      "source": [
        "# Drop Table"
      ],
      "metadata": {
        "id": "bYkb0sMBm-ex"
      },
      "id": "bYkb0sMBm-ex"
    },
    {
      "cell_type": "code",
      "source": [
        "#DROP TABLE table_name;\n",
        "cur.execute(\"DROP TABLE customers_table;\")"
      ],
      "metadata": {
        "colab": {
          "base_uri": "https://localhost:8080/"
        },
        "id": "_efqsyM5m9zC",
        "outputId": "bd03d4f5-00d1-40f8-97c4-dbbd655ec0dc"
      },
      "id": "_efqsyM5m9zC",
      "execution_count": null,
      "outputs": [
        {
          "output_type": "execute_result",
          "data": {
            "text/plain": [
              "<sqlite3.Cursor at 0x7f3301300ab0>"
            ]
          },
          "metadata": {},
          "execution_count": 6
        }
      ]
    },
    {
      "cell_type": "code",
      "execution_count": null,
      "id": "valid-registrar",
      "metadata": {
        "id": "valid-registrar"
      },
      "outputs": [],
      "source": [
        "cur.close()\n",
        "conn.close()"
      ]
    },
    {
      "cell_type": "markdown",
      "source": [
        "# SQLite and Pandas"
      ],
      "metadata": {
        "id": "ZklqmKwV0aSS"
      },
      "id": "ZklqmKwV0aSS"
    },
    {
      "cell_type": "markdown",
      "source": [
        "#Pandas \n",
        "* Pandas is a fast, powerful, flexible and easy to use open source data analysis and manipulation tool,\n",
        "built on top of the Python programming language.\n",
        "\n",
        "* Pandas has a ready sql query method that will allow you to return the data as a Dataframe, where we can easly manipulate it."
      ],
      "metadata": {
        "id": "qjycB2Pe0eP-"
      },
      "id": "qjycB2Pe0eP-"
    },
    {
      "cell_type": "code",
      "source": [
        "import pandas as pd"
      ],
      "metadata": {
        "id": "L_sVPSXX0zoP"
      },
      "id": "L_sVPSXX0zoP",
      "execution_count": null,
      "outputs": []
    },
    {
      "cell_type": "code",
      "execution_count": null,
      "id": "average-latino",
      "metadata": {
        "id": "average-latino"
      },
      "outputs": [],
      "source": [
        "\n",
        "con = db.connect('Customer_DB.db')\n",
        "df_customers = pd.read_sql_query(\"SELECT * FROM customers_table;\", con)"
      ]
    },
    {
      "cell_type": "code",
      "execution_count": null,
      "id": "accomplished-antigua",
      "metadata": {
        "colab": {
          "base_uri": "https://localhost:8080/",
          "height": 143
        },
        "id": "accomplished-antigua",
        "outputId": "09086de7-25af-4d57-c951-1226796445ea"
      },
      "outputs": [
        {
          "output_type": "execute_result",
          "data": {
            "text/plain": [
              "  first_name last_name            email\n",
              "0        Sam     Brown    sam@brown.com\n",
              "1      Steph     Kuewa  steph@kuewa.com\n",
              "2        Dan       Pas      dan@pas.com"
            ],
            "text/html": [
              "\n",
              "  <div id=\"df-7ea9e804-976d-4be7-b482-6ae2313d265a\">\n",
              "    <div class=\"colab-df-container\">\n",
              "      <div>\n",
              "<style scoped>\n",
              "    .dataframe tbody tr th:only-of-type {\n",
              "        vertical-align: middle;\n",
              "    }\n",
              "\n",
              "    .dataframe tbody tr th {\n",
              "        vertical-align: top;\n",
              "    }\n",
              "\n",
              "    .dataframe thead th {\n",
              "        text-align: right;\n",
              "    }\n",
              "</style>\n",
              "<table border=\"1\" class=\"dataframe\">\n",
              "  <thead>\n",
              "    <tr style=\"text-align: right;\">\n",
              "      <th></th>\n",
              "      <th>first_name</th>\n",
              "      <th>last_name</th>\n",
              "      <th>email</th>\n",
              "    </tr>\n",
              "  </thead>\n",
              "  <tbody>\n",
              "    <tr>\n",
              "      <th>0</th>\n",
              "      <td>Sam</td>\n",
              "      <td>Brown</td>\n",
              "      <td>sam@brown.com</td>\n",
              "    </tr>\n",
              "    <tr>\n",
              "      <th>1</th>\n",
              "      <td>Steph</td>\n",
              "      <td>Kuewa</td>\n",
              "      <td>steph@kuewa.com</td>\n",
              "    </tr>\n",
              "    <tr>\n",
              "      <th>2</th>\n",
              "      <td>Dan</td>\n",
              "      <td>Pas</td>\n",
              "      <td>dan@pas.com</td>\n",
              "    </tr>\n",
              "  </tbody>\n",
              "</table>\n",
              "</div>\n",
              "      <button class=\"colab-df-convert\" onclick=\"convertToInteractive('df-7ea9e804-976d-4be7-b482-6ae2313d265a')\"\n",
              "              title=\"Convert this dataframe to an interactive table.\"\n",
              "              style=\"display:none;\">\n",
              "        \n",
              "  <svg xmlns=\"http://www.w3.org/2000/svg\" height=\"24px\"viewBox=\"0 0 24 24\"\n",
              "       width=\"24px\">\n",
              "    <path d=\"M0 0h24v24H0V0z\" fill=\"none\"/>\n",
              "    <path d=\"M18.56 5.44l.94 2.06.94-2.06 2.06-.94-2.06-.94-.94-2.06-.94 2.06-2.06.94zm-11 1L8.5 8.5l.94-2.06 2.06-.94-2.06-.94L8.5 2.5l-.94 2.06-2.06.94zm10 10l.94 2.06.94-2.06 2.06-.94-2.06-.94-.94-2.06-.94 2.06-2.06.94z\"/><path d=\"M17.41 7.96l-1.37-1.37c-.4-.4-.92-.59-1.43-.59-.52 0-1.04.2-1.43.59L10.3 9.45l-7.72 7.72c-.78.78-.78 2.05 0 2.83L4 21.41c.39.39.9.59 1.41.59.51 0 1.02-.2 1.41-.59l7.78-7.78 2.81-2.81c.8-.78.8-2.07 0-2.86zM5.41 20L4 18.59l7.72-7.72 1.47 1.35L5.41 20z\"/>\n",
              "  </svg>\n",
              "      </button>\n",
              "      \n",
              "  <style>\n",
              "    .colab-df-container {\n",
              "      display:flex;\n",
              "      flex-wrap:wrap;\n",
              "      gap: 12px;\n",
              "    }\n",
              "\n",
              "    .colab-df-convert {\n",
              "      background-color: #E8F0FE;\n",
              "      border: none;\n",
              "      border-radius: 50%;\n",
              "      cursor: pointer;\n",
              "      display: none;\n",
              "      fill: #1967D2;\n",
              "      height: 32px;\n",
              "      padding: 0 0 0 0;\n",
              "      width: 32px;\n",
              "    }\n",
              "\n",
              "    .colab-df-convert:hover {\n",
              "      background-color: #E2EBFA;\n",
              "      box-shadow: 0px 1px 2px rgba(60, 64, 67, 0.3), 0px 1px 3px 1px rgba(60, 64, 67, 0.15);\n",
              "      fill: #174EA6;\n",
              "    }\n",
              "\n",
              "    [theme=dark] .colab-df-convert {\n",
              "      background-color: #3B4455;\n",
              "      fill: #D2E3FC;\n",
              "    }\n",
              "\n",
              "    [theme=dark] .colab-df-convert:hover {\n",
              "      background-color: #434B5C;\n",
              "      box-shadow: 0px 1px 3px 1px rgba(0, 0, 0, 0.15);\n",
              "      filter: drop-shadow(0px 1px 2px rgba(0, 0, 0, 0.3));\n",
              "      fill: #FFFFFF;\n",
              "    }\n",
              "  </style>\n",
              "\n",
              "      <script>\n",
              "        const buttonEl =\n",
              "          document.querySelector('#df-7ea9e804-976d-4be7-b482-6ae2313d265a button.colab-df-convert');\n",
              "        buttonEl.style.display =\n",
              "          google.colab.kernel.accessAllowed ? 'block' : 'none';\n",
              "\n",
              "        async function convertToInteractive(key) {\n",
              "          const element = document.querySelector('#df-7ea9e804-976d-4be7-b482-6ae2313d265a');\n",
              "          const dataTable =\n",
              "            await google.colab.kernel.invokeFunction('convertToInteractive',\n",
              "                                                     [key], {});\n",
              "          if (!dataTable) return;\n",
              "\n",
              "          const docLinkHtml = 'Like what you see? Visit the ' +\n",
              "            '<a target=\"_blank\" href=https://colab.research.google.com/notebooks/data_table.ipynb>data table notebook</a>'\n",
              "            + ' to learn more about interactive tables.';\n",
              "          element.innerHTML = '';\n",
              "          dataTable['output_type'] = 'display_data';\n",
              "          await google.colab.output.renderOutput(dataTable, element);\n",
              "          const docLink = document.createElement('div');\n",
              "          docLink.innerHTML = docLinkHtml;\n",
              "          element.appendChild(docLink);\n",
              "        }\n",
              "      </script>\n",
              "    </div>\n",
              "  </div>\n",
              "  "
            ]
          },
          "metadata": {},
          "execution_count": 11
        }
      ],
      "source": [
        "df_customers"
      ]
    },
    {
      "cell_type": "code",
      "execution_count": null,
      "id": "rolled-concert",
      "metadata": {
        "id": "rolled-concert"
      },
      "outputs": [],
      "source": [
        "df_new = df_customers[:-1]"
      ]
    },
    {
      "cell_type": "code",
      "execution_count": null,
      "id": "lesser-compact",
      "metadata": {
        "colab": {
          "base_uri": "https://localhost:8080/",
          "height": 112
        },
        "id": "lesser-compact",
        "outputId": "8430d366-4d70-4072-b363-ce512b1bf5d3"
      },
      "outputs": [
        {
          "output_type": "execute_result",
          "data": {
            "text/plain": [
              "  first_name last_name            email\n",
              "0        Sam     Brown    sam@brown.com\n",
              "1      Steph     Kuewa  steph@kuewa.com"
            ],
            "text/html": [
              "\n",
              "  <div id=\"df-e0be3cf1-9263-4d91-9a1b-7b95b319e9e8\">\n",
              "    <div class=\"colab-df-container\">\n",
              "      <div>\n",
              "<style scoped>\n",
              "    .dataframe tbody tr th:only-of-type {\n",
              "        vertical-align: middle;\n",
              "    }\n",
              "\n",
              "    .dataframe tbody tr th {\n",
              "        vertical-align: top;\n",
              "    }\n",
              "\n",
              "    .dataframe thead th {\n",
              "        text-align: right;\n",
              "    }\n",
              "</style>\n",
              "<table border=\"1\" class=\"dataframe\">\n",
              "  <thead>\n",
              "    <tr style=\"text-align: right;\">\n",
              "      <th></th>\n",
              "      <th>first_name</th>\n",
              "      <th>last_name</th>\n",
              "      <th>email</th>\n",
              "    </tr>\n",
              "  </thead>\n",
              "  <tbody>\n",
              "    <tr>\n",
              "      <th>0</th>\n",
              "      <td>Sam</td>\n",
              "      <td>Brown</td>\n",
              "      <td>sam@brown.com</td>\n",
              "    </tr>\n",
              "    <tr>\n",
              "      <th>1</th>\n",
              "      <td>Steph</td>\n",
              "      <td>Kuewa</td>\n",
              "      <td>steph@kuewa.com</td>\n",
              "    </tr>\n",
              "  </tbody>\n",
              "</table>\n",
              "</div>\n",
              "      <button class=\"colab-df-convert\" onclick=\"convertToInteractive('df-e0be3cf1-9263-4d91-9a1b-7b95b319e9e8')\"\n",
              "              title=\"Convert this dataframe to an interactive table.\"\n",
              "              style=\"display:none;\">\n",
              "        \n",
              "  <svg xmlns=\"http://www.w3.org/2000/svg\" height=\"24px\"viewBox=\"0 0 24 24\"\n",
              "       width=\"24px\">\n",
              "    <path d=\"M0 0h24v24H0V0z\" fill=\"none\"/>\n",
              "    <path d=\"M18.56 5.44l.94 2.06.94-2.06 2.06-.94-2.06-.94-.94-2.06-.94 2.06-2.06.94zm-11 1L8.5 8.5l.94-2.06 2.06-.94-2.06-.94L8.5 2.5l-.94 2.06-2.06.94zm10 10l.94 2.06.94-2.06 2.06-.94-2.06-.94-.94-2.06-.94 2.06-2.06.94z\"/><path d=\"M17.41 7.96l-1.37-1.37c-.4-.4-.92-.59-1.43-.59-.52 0-1.04.2-1.43.59L10.3 9.45l-7.72 7.72c-.78.78-.78 2.05 0 2.83L4 21.41c.39.39.9.59 1.41.59.51 0 1.02-.2 1.41-.59l7.78-7.78 2.81-2.81c.8-.78.8-2.07 0-2.86zM5.41 20L4 18.59l7.72-7.72 1.47 1.35L5.41 20z\"/>\n",
              "  </svg>\n",
              "      </button>\n",
              "      \n",
              "  <style>\n",
              "    .colab-df-container {\n",
              "      display:flex;\n",
              "      flex-wrap:wrap;\n",
              "      gap: 12px;\n",
              "    }\n",
              "\n",
              "    .colab-df-convert {\n",
              "      background-color: #E8F0FE;\n",
              "      border: none;\n",
              "      border-radius: 50%;\n",
              "      cursor: pointer;\n",
              "      display: none;\n",
              "      fill: #1967D2;\n",
              "      height: 32px;\n",
              "      padding: 0 0 0 0;\n",
              "      width: 32px;\n",
              "    }\n",
              "\n",
              "    .colab-df-convert:hover {\n",
              "      background-color: #E2EBFA;\n",
              "      box-shadow: 0px 1px 2px rgba(60, 64, 67, 0.3), 0px 1px 3px 1px rgba(60, 64, 67, 0.15);\n",
              "      fill: #174EA6;\n",
              "    }\n",
              "\n",
              "    [theme=dark] .colab-df-convert {\n",
              "      background-color: #3B4455;\n",
              "      fill: #D2E3FC;\n",
              "    }\n",
              "\n",
              "    [theme=dark] .colab-df-convert:hover {\n",
              "      background-color: #434B5C;\n",
              "      box-shadow: 0px 1px 3px 1px rgba(0, 0, 0, 0.15);\n",
              "      filter: drop-shadow(0px 1px 2px rgba(0, 0, 0, 0.3));\n",
              "      fill: #FFFFFF;\n",
              "    }\n",
              "  </style>\n",
              "\n",
              "      <script>\n",
              "        const buttonEl =\n",
              "          document.querySelector('#df-e0be3cf1-9263-4d91-9a1b-7b95b319e9e8 button.colab-df-convert');\n",
              "        buttonEl.style.display =\n",
              "          google.colab.kernel.accessAllowed ? 'block' : 'none';\n",
              "\n",
              "        async function convertToInteractive(key) {\n",
              "          const element = document.querySelector('#df-e0be3cf1-9263-4d91-9a1b-7b95b319e9e8');\n",
              "          const dataTable =\n",
              "            await google.colab.kernel.invokeFunction('convertToInteractive',\n",
              "                                                     [key], {});\n",
              "          if (!dataTable) return;\n",
              "\n",
              "          const docLinkHtml = 'Like what you see? Visit the ' +\n",
              "            '<a target=\"_blank\" href=https://colab.research.google.com/notebooks/data_table.ipynb>data table notebook</a>'\n",
              "            + ' to learn more about interactive tables.';\n",
              "          element.innerHTML = '';\n",
              "          dataTable['output_type'] = 'display_data';\n",
              "          await google.colab.output.renderOutput(dataTable, element);\n",
              "          const docLink = document.createElement('div');\n",
              "          docLink.innerHTML = docLinkHtml;\n",
              "          element.appendChild(docLink);\n",
              "        }\n",
              "      </script>\n",
              "    </div>\n",
              "  </div>\n",
              "  "
            ]
          },
          "metadata": {},
          "execution_count": 13
        }
      ],
      "source": [
        "df_new"
      ]
    },
    {
      "cell_type": "code",
      "execution_count": null,
      "id": "golden-actor",
      "metadata": {
        "id": "golden-actor"
      },
      "outputs": [],
      "source": [
        "df_new.to_sql(\"customers_table\", con, if_exists=\"replace\")## append"
      ]
    },
    {
      "cell_type": "code",
      "execution_count": null,
      "id": "labeled-oakland",
      "metadata": {
        "colab": {
          "base_uri": "https://localhost:8080/",
          "height": 112
        },
        "id": "labeled-oakland",
        "outputId": "f4032ad0-4252-4f6f-afc7-b08d15e07dba"
      },
      "outputs": [
        {
          "output_type": "execute_result",
          "data": {
            "text/plain": [
              "   index first_name last_name            email\n",
              "0      0        Sam     Brown    sam@brown.com\n",
              "1      1      Steph     Kuewa  steph@kuewa.com"
            ],
            "text/html": [
              "\n",
              "  <div id=\"df-98c4a862-d80a-4442-9b0e-7839d046e9df\">\n",
              "    <div class=\"colab-df-container\">\n",
              "      <div>\n",
              "<style scoped>\n",
              "    .dataframe tbody tr th:only-of-type {\n",
              "        vertical-align: middle;\n",
              "    }\n",
              "\n",
              "    .dataframe tbody tr th {\n",
              "        vertical-align: top;\n",
              "    }\n",
              "\n",
              "    .dataframe thead th {\n",
              "        text-align: right;\n",
              "    }\n",
              "</style>\n",
              "<table border=\"1\" class=\"dataframe\">\n",
              "  <thead>\n",
              "    <tr style=\"text-align: right;\">\n",
              "      <th></th>\n",
              "      <th>index</th>\n",
              "      <th>first_name</th>\n",
              "      <th>last_name</th>\n",
              "      <th>email</th>\n",
              "    </tr>\n",
              "  </thead>\n",
              "  <tbody>\n",
              "    <tr>\n",
              "      <th>0</th>\n",
              "      <td>0</td>\n",
              "      <td>Sam</td>\n",
              "      <td>Brown</td>\n",
              "      <td>sam@brown.com</td>\n",
              "    </tr>\n",
              "    <tr>\n",
              "      <th>1</th>\n",
              "      <td>1</td>\n",
              "      <td>Steph</td>\n",
              "      <td>Kuewa</td>\n",
              "      <td>steph@kuewa.com</td>\n",
              "    </tr>\n",
              "  </tbody>\n",
              "</table>\n",
              "</div>\n",
              "      <button class=\"colab-df-convert\" onclick=\"convertToInteractive('df-98c4a862-d80a-4442-9b0e-7839d046e9df')\"\n",
              "              title=\"Convert this dataframe to an interactive table.\"\n",
              "              style=\"display:none;\">\n",
              "        \n",
              "  <svg xmlns=\"http://www.w3.org/2000/svg\" height=\"24px\"viewBox=\"0 0 24 24\"\n",
              "       width=\"24px\">\n",
              "    <path d=\"M0 0h24v24H0V0z\" fill=\"none\"/>\n",
              "    <path d=\"M18.56 5.44l.94 2.06.94-2.06 2.06-.94-2.06-.94-.94-2.06-.94 2.06-2.06.94zm-11 1L8.5 8.5l.94-2.06 2.06-.94-2.06-.94L8.5 2.5l-.94 2.06-2.06.94zm10 10l.94 2.06.94-2.06 2.06-.94-2.06-.94-.94-2.06-.94 2.06-2.06.94z\"/><path d=\"M17.41 7.96l-1.37-1.37c-.4-.4-.92-.59-1.43-.59-.52 0-1.04.2-1.43.59L10.3 9.45l-7.72 7.72c-.78.78-.78 2.05 0 2.83L4 21.41c.39.39.9.59 1.41.59.51 0 1.02-.2 1.41-.59l7.78-7.78 2.81-2.81c.8-.78.8-2.07 0-2.86zM5.41 20L4 18.59l7.72-7.72 1.47 1.35L5.41 20z\"/>\n",
              "  </svg>\n",
              "      </button>\n",
              "      \n",
              "  <style>\n",
              "    .colab-df-container {\n",
              "      display:flex;\n",
              "      flex-wrap:wrap;\n",
              "      gap: 12px;\n",
              "    }\n",
              "\n",
              "    .colab-df-convert {\n",
              "      background-color: #E8F0FE;\n",
              "      border: none;\n",
              "      border-radius: 50%;\n",
              "      cursor: pointer;\n",
              "      display: none;\n",
              "      fill: #1967D2;\n",
              "      height: 32px;\n",
              "      padding: 0 0 0 0;\n",
              "      width: 32px;\n",
              "    }\n",
              "\n",
              "    .colab-df-convert:hover {\n",
              "      background-color: #E2EBFA;\n",
              "      box-shadow: 0px 1px 2px rgba(60, 64, 67, 0.3), 0px 1px 3px 1px rgba(60, 64, 67, 0.15);\n",
              "      fill: #174EA6;\n",
              "    }\n",
              "\n",
              "    [theme=dark] .colab-df-convert {\n",
              "      background-color: #3B4455;\n",
              "      fill: #D2E3FC;\n",
              "    }\n",
              "\n",
              "    [theme=dark] .colab-df-convert:hover {\n",
              "      background-color: #434B5C;\n",
              "      box-shadow: 0px 1px 3px 1px rgba(0, 0, 0, 0.15);\n",
              "      filter: drop-shadow(0px 1px 2px rgba(0, 0, 0, 0.3));\n",
              "      fill: #FFFFFF;\n",
              "    }\n",
              "  </style>\n",
              "\n",
              "      <script>\n",
              "        const buttonEl =\n",
              "          document.querySelector('#df-98c4a862-d80a-4442-9b0e-7839d046e9df button.colab-df-convert');\n",
              "        buttonEl.style.display =\n",
              "          google.colab.kernel.accessAllowed ? 'block' : 'none';\n",
              "\n",
              "        async function convertToInteractive(key) {\n",
              "          const element = document.querySelector('#df-98c4a862-d80a-4442-9b0e-7839d046e9df');\n",
              "          const dataTable =\n",
              "            await google.colab.kernel.invokeFunction('convertToInteractive',\n",
              "                                                     [key], {});\n",
              "          if (!dataTable) return;\n",
              "\n",
              "          const docLinkHtml = 'Like what you see? Visit the ' +\n",
              "            '<a target=\"_blank\" href=https://colab.research.google.com/notebooks/data_table.ipynb>data table notebook</a>'\n",
              "            + ' to learn more about interactive tables.';\n",
              "          element.innerHTML = '';\n",
              "          dataTable['output_type'] = 'display_data';\n",
              "          await google.colab.output.renderOutput(dataTable, element);\n",
              "          const docLink = document.createElement('div');\n",
              "          docLink.innerHTML = docLinkHtml;\n",
              "          element.appendChild(docLink);\n",
              "        }\n",
              "      </script>\n",
              "    </div>\n",
              "  </div>\n",
              "  "
            ]
          },
          "metadata": {},
          "execution_count": 15
        }
      ],
      "source": [
        "pd.read_sql_query ('select * from customers_table', con)"
      ]
    },
    {
      "cell_type": "markdown",
      "source": [
        "# SQLite + Pandas + CSV"
      ],
      "metadata": {
        "id": "9vilQ71YFPJ2"
      },
      "id": "9vilQ71YFPJ2"
    },
    {
      "cell_type": "code",
      "source": [
        "#@title Save DF to a csv\n",
        "\n",
        "df_new.to_csv('customer_csv.csv', index=False)\n",
        "df_new"
      ],
      "metadata": {
        "colab": {
          "base_uri": "https://localhost:8080/",
          "height": 112
        },
        "id": "B9XtgGmGFnQY",
        "outputId": "c586ecd7-245c-4748-aab1-5b90e92c2e1f"
      },
      "id": "B9XtgGmGFnQY",
      "execution_count": null,
      "outputs": [
        {
          "output_type": "execute_result",
          "data": {
            "text/plain": [
              "  first_name last_name            email\n",
              "0        Sam     Brown    sam@brown.com\n",
              "1      Steph     Kuewa  steph@kuewa.com"
            ],
            "text/html": [
              "\n",
              "  <div id=\"df-3bb46eb5-9063-481a-9706-b6ce8a63ffb6\">\n",
              "    <div class=\"colab-df-container\">\n",
              "      <div>\n",
              "<style scoped>\n",
              "    .dataframe tbody tr th:only-of-type {\n",
              "        vertical-align: middle;\n",
              "    }\n",
              "\n",
              "    .dataframe tbody tr th {\n",
              "        vertical-align: top;\n",
              "    }\n",
              "\n",
              "    .dataframe thead th {\n",
              "        text-align: right;\n",
              "    }\n",
              "</style>\n",
              "<table border=\"1\" class=\"dataframe\">\n",
              "  <thead>\n",
              "    <tr style=\"text-align: right;\">\n",
              "      <th></th>\n",
              "      <th>first_name</th>\n",
              "      <th>last_name</th>\n",
              "      <th>email</th>\n",
              "    </tr>\n",
              "  </thead>\n",
              "  <tbody>\n",
              "    <tr>\n",
              "      <th>0</th>\n",
              "      <td>Sam</td>\n",
              "      <td>Brown</td>\n",
              "      <td>sam@brown.com</td>\n",
              "    </tr>\n",
              "    <tr>\n",
              "      <th>1</th>\n",
              "      <td>Steph</td>\n",
              "      <td>Kuewa</td>\n",
              "      <td>steph@kuewa.com</td>\n",
              "    </tr>\n",
              "  </tbody>\n",
              "</table>\n",
              "</div>\n",
              "      <button class=\"colab-df-convert\" onclick=\"convertToInteractive('df-3bb46eb5-9063-481a-9706-b6ce8a63ffb6')\"\n",
              "              title=\"Convert this dataframe to an interactive table.\"\n",
              "              style=\"display:none;\">\n",
              "        \n",
              "  <svg xmlns=\"http://www.w3.org/2000/svg\" height=\"24px\"viewBox=\"0 0 24 24\"\n",
              "       width=\"24px\">\n",
              "    <path d=\"M0 0h24v24H0V0z\" fill=\"none\"/>\n",
              "    <path d=\"M18.56 5.44l.94 2.06.94-2.06 2.06-.94-2.06-.94-.94-2.06-.94 2.06-2.06.94zm-11 1L8.5 8.5l.94-2.06 2.06-.94-2.06-.94L8.5 2.5l-.94 2.06-2.06.94zm10 10l.94 2.06.94-2.06 2.06-.94-2.06-.94-.94-2.06-.94 2.06-2.06.94z\"/><path d=\"M17.41 7.96l-1.37-1.37c-.4-.4-.92-.59-1.43-.59-.52 0-1.04.2-1.43.59L10.3 9.45l-7.72 7.72c-.78.78-.78 2.05 0 2.83L4 21.41c.39.39.9.59 1.41.59.51 0 1.02-.2 1.41-.59l7.78-7.78 2.81-2.81c.8-.78.8-2.07 0-2.86zM5.41 20L4 18.59l7.72-7.72 1.47 1.35L5.41 20z\"/>\n",
              "  </svg>\n",
              "      </button>\n",
              "      \n",
              "  <style>\n",
              "    .colab-df-container {\n",
              "      display:flex;\n",
              "      flex-wrap:wrap;\n",
              "      gap: 12px;\n",
              "    }\n",
              "\n",
              "    .colab-df-convert {\n",
              "      background-color: #E8F0FE;\n",
              "      border: none;\n",
              "      border-radius: 50%;\n",
              "      cursor: pointer;\n",
              "      display: none;\n",
              "      fill: #1967D2;\n",
              "      height: 32px;\n",
              "      padding: 0 0 0 0;\n",
              "      width: 32px;\n",
              "    }\n",
              "\n",
              "    .colab-df-convert:hover {\n",
              "      background-color: #E2EBFA;\n",
              "      box-shadow: 0px 1px 2px rgba(60, 64, 67, 0.3), 0px 1px 3px 1px rgba(60, 64, 67, 0.15);\n",
              "      fill: #174EA6;\n",
              "    }\n",
              "\n",
              "    [theme=dark] .colab-df-convert {\n",
              "      background-color: #3B4455;\n",
              "      fill: #D2E3FC;\n",
              "    }\n",
              "\n",
              "    [theme=dark] .colab-df-convert:hover {\n",
              "      background-color: #434B5C;\n",
              "      box-shadow: 0px 1px 3px 1px rgba(0, 0, 0, 0.15);\n",
              "      filter: drop-shadow(0px 1px 2px rgba(0, 0, 0, 0.3));\n",
              "      fill: #FFFFFF;\n",
              "    }\n",
              "  </style>\n",
              "\n",
              "      <script>\n",
              "        const buttonEl =\n",
              "          document.querySelector('#df-3bb46eb5-9063-481a-9706-b6ce8a63ffb6 button.colab-df-convert');\n",
              "        buttonEl.style.display =\n",
              "          google.colab.kernel.accessAllowed ? 'block' : 'none';\n",
              "\n",
              "        async function convertToInteractive(key) {\n",
              "          const element = document.querySelector('#df-3bb46eb5-9063-481a-9706-b6ce8a63ffb6');\n",
              "          const dataTable =\n",
              "            await google.colab.kernel.invokeFunction('convertToInteractive',\n",
              "                                                     [key], {});\n",
              "          if (!dataTable) return;\n",
              "\n",
              "          const docLinkHtml = 'Like what you see? Visit the ' +\n",
              "            '<a target=\"_blank\" href=https://colab.research.google.com/notebooks/data_table.ipynb>data table notebook</a>'\n",
              "            + ' to learn more about interactive tables.';\n",
              "          element.innerHTML = '';\n",
              "          dataTable['output_type'] = 'display_data';\n",
              "          await google.colab.output.renderOutput(dataTable, element);\n",
              "          const docLink = document.createElement('div');\n",
              "          docLink.innerHTML = docLinkHtml;\n",
              "          element.appendChild(docLink);\n",
              "        }\n",
              "      </script>\n",
              "    </div>\n",
              "  </div>\n",
              "  "
            ]
          },
          "metadata": {},
          "execution_count": 16
        }
      ]
    },
    {
      "cell_type": "code",
      "source": [
        "#@title Read CSV\n",
        "\n",
        "my_csv = pd.read_csv(\"customer_csv.csv\")\n",
        "my_csv"
      ],
      "metadata": {
        "id": "FJsb1R-qFOzG"
      },
      "id": "FJsb1R-qFOzG",
      "execution_count": null,
      "outputs": []
    },
    {
      "cell_type": "code",
      "source": [
        "#@title Push dataframe to sql \n",
        "my_csv.to_sql(\"my_csv_data\", conn, if_exists=\"replace\") ## or append "
      ],
      "metadata": {
        "id": "Rw_NFTriGdgW"
      },
      "id": "Rw_NFTriGdgW",
      "execution_count": null,
      "outputs": []
    },
    {
      "cell_type": "code",
      "source": [],
      "metadata": {
        "id": "HGUhxp21Gs8D"
      },
      "id": "HGUhxp21Gs8D",
      "execution_count": null,
      "outputs": []
    },
    {
      "cell_type": "code",
      "execution_count": null,
      "id": "developing-dominican",
      "metadata": {
        "id": "developing-dominican"
      },
      "outputs": [],
      "source": [
        "con.close()"
      ]
    },
    {
      "cell_type": "code",
      "execution_count": null,
      "id": "demographic-gravity",
      "metadata": {
        "id": "demographic-gravity"
      },
      "outputs": [],
      "source": [
        "#end of notebook"
      ]
    }
  ],
  "metadata": {
    "kernelspec": {
      "display_name": "Python 3",
      "language": "python",
      "name": "python3"
    },
    "language_info": {
      "codemirror_mode": {
        "name": "ipython",
        "version": 3
      },
      "file_extension": ".py",
      "mimetype": "text/x-python",
      "name": "python",
      "nbconvert_exporter": "python",
      "pygments_lexer": "ipython3",
      "version": "3.7.3"
    },
    "colab": {
      "provenance": [],
      "collapsed_sections": [
        "aGG8AudBycBI",
        "bYkb0sMBm-ex",
        "ZklqmKwV0aSS"
      ],
      "include_colab_link": true
    }
  },
  "nbformat": 4,
  "nbformat_minor": 5
}